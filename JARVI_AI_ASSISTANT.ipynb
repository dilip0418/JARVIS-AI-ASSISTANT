{
 "cells": [
  {
   "cell_type": "markdown",
   "id": "09478301",
   "metadata": {},
   "source": [
    "SCI - FI AI ASSISTANT"
   ]
  },
  {
   "cell_type": "code",
   "execution_count": null,
   "id": "d27838bb",
   "metadata": {},
   "outputs": [],
   "source": [
    "import os, time, subprocess, json, wolframalpha, requests, webbrowser,wikipedia, datetime, pyaudio"
   ]
  },
  {
   "cell_type": "code",
   "execution_count": null,
   "id": "2937583f",
   "metadata": {},
   "outputs": [],
   "source": [
    "import speech_recognition as sr"
   ]
  },
  {
   "cell_type": "code",
   "execution_count": null,
   "id": "02946f90",
   "metadata": {},
   "outputs": [],
   "source": [
    "import pyttsx3"
   ]
  },
  {
   "cell_type": "code",
   "execution_count": null,
   "id": "cbd7d031",
   "metadata": {},
   "outputs": [],
   "source": [
    "print('AWAKENING JARVIS')"
   ]
  },
  {
   "cell_type": "code",
   "execution_count": null,
   "id": "e7189172",
   "metadata": {},
   "outputs": [],
   "source": [
    "engine = pyttsx3.init('sapi5')\n",
    "voices = engine.getProperty('voices')\n",
    "engine.setProperty('voice','voices[0].id') #voices[0] is a male voice and voices[1] for female voice"
   ]
  },
  {
   "cell_type": "code",
   "execution_count": null,
   "id": "8de704ad",
   "metadata": {},
   "outputs": [],
   "source": [
    "def speak(text):\n",
    "    '''lets the system to spell the text/command'''\n",
    "    engine.say(text)\n",
    "    engine.runAndWait()"
   ]
  },
  {
   "cell_type": "code",
   "execution_count": null,
   "id": "7c0085e5",
   "metadata": {},
   "outputs": [],
   "source": [
    "def wishMe():\n",
    "    hour = datetime.datetime.now().hour\n",
    "    if hour >= 0 and hour < 12:\n",
    "        speak('hello, good morning Mr. Dilip')\n",
    "        print('hello, good morning Mr. Dilip')\n",
    "    elif hour >= 12 and hour <= 18:\n",
    "        speak('hello, good afternoon Mr. Dilip')\n",
    "        print('hello, good afternoon Mr. Dilip')\n",
    "    else:\n",
    "        speak('hello, good night Mr. Dilip')\n",
    "        print('hello, good night Mr. Dilip')\n",
    "        "
   ]
  },
  {
   "cell_type": "code",
   "execution_count": null,
   "id": "a2f3cfcd",
   "metadata": {},
   "outputs": [],
   "source": [
    "def takeCommand():\n",
    "    cmd = sr.Recognizer()\n",
    "    mic = sr.Microphone(device_index=1)\n",
    "    with mic as source:\n",
    "        print('I am always at your service')\n",
    "        speak('I am always at your service')\n",
    "        audio = cmd.listen(source)\n",
    "        try:\n",
    "            print('in try block')\n",
    "            cmd.adjust_for_ambient_noise(source)\n",
    "            statement = cmd.recognize_google(audio)\n",
    "            print(f'you aked me to perform {statement}')\n",
    "        except:\n",
    "            speak('pardon, will you come again')\n",
    "            return 'None'\n",
    "        return statement"
   ]
  },
  {
   "cell_type": "code",
   "execution_count": null,
   "id": "606a1def",
   "metadata": {},
   "outputs": [],
   "source": [
    "if __name__ == '__main__':\n",
    "    print('AWAKENING JARVIS')\n",
    "    speak('AWAKENING JARVIS')\n",
    "    wishMe()\n",
    "    while True:\n",
    "        speak('How can I help you')\n",
    "        statement = takeCommand().lower()\n",
    "#         statement = 'open youtube for me'\n",
    "        print(statement)\n",
    "        if statement == 0:\n",
    "            contnue\n",
    "        if 'good bye' in statement or 'ok bye' in statement or 'stop' in statement:\n",
    "            speak('Jarvis Signing Off')\n",
    "            print('Jarvis Signing Off')\n",
    "            break\n",
    "        if 'wikipedia' in statement:\n",
    "            speak('searching wikipedia...')\n",
    "            statement = statement.replace('wikipedia',' ')\n",
    "            results = wikipedia.summary(statement, sentences=3)\n",
    "            speak('According to wikipedia...')\n",
    "            print(results)\n",
    "            speak(results)\n",
    "        elif 'open youtube' in statement:\n",
    "            webbrowser.open_new_tab('https://www.youtube.com/')\n",
    "            speak('youtube is open for you')\n",
    "            time.sleep(5)\n",
    "        elif 'open google' in statement:\n",
    "            webbrowser.open_new_tab('https://www.google.com/')\n",
    "            speak('google search is open for you')\n",
    "            time.sleep(5)\n",
    "        elif 'open gmail' in statement:\n",
    "            webbrowser.open_new_tab('https://www.gmail.com/')\n",
    "            speak('viewing your mailbox')\n",
    "            time.sleep(5)\n",
    "        elif 'weather' in statement:\n",
    "            api_key = '8ef61edcf1c576d65d836254e11ea420'\n",
    "            base_url = 'https://api.openweathermap.org/data/2.5/weather?'\n",
    "            speak(\"which city's weather do you wanna know\")\n",
    "            city = takeCommand()\n",
    "            complete_url = base_url + 'appid = '+ api_key+'&q = '+city\n",
    "            response = requests.get(complete_url)\n",
    "            response_in_json = response.json()\n",
    "            if response_in_json['cod'] != '404':\n",
    "                weather_stats = response_in_json['main']\n",
    "                curr_temperature = weather_stats['temp']\n",
    "                curr_humidity = weather_stats['humidity']\n",
    "                weather_stats_1 = response_in_json['weather']\n",
    "                weather_descprition = weather_stats_1[0]['description']\n",
    "                speak('the temperature in kelvin units is '+ str(curr_temperature) +'\\n humidity in percentage is '+ str(curr_humidity) +'\\n weather description '+str(weather_descprition))\n",
    "                print('the temperature in kelvin units is '+ str(curr_temperature) +'\\n humidity in percentage is '+ str(curr_humidity) +'\\n weather description '+str(weather_descprition))\n",
    "            else:\n",
    "                print('sorry i could not found the requested city')\n",
    "                speak('sorry i could not found the requested city')\n",
    "        elif 'what is the time now' in statement:\n",
    "            strTime = datetime.datetime.now().strftime('%H:%M;%S')\n",
    "            speak(f'the time is {strTime}')\n",
    "        elif 'who are you ?' in statement:\n",
    "            speak('I am JARVIS an AI PERSONAL ASSITANT')\n",
    "                "
   ]
  }
 ],
 "metadata": {
  "kernelspec": {
   "display_name": "Python 3 (ipykernel)",
   "language": "python",
   "name": "python3"
  },
  "language_info": {
   "codemirror_mode": {
    "name": "ipython",
    "version": 3
   },
   "file_extension": ".py",
   "mimetype": "text/x-python",
   "name": "python",
   "nbconvert_exporter": "python",
   "pygments_lexer": "ipython3",
   "version": "3.9.12"
  },
  "vscode": {
   "interpreter": {
    "hash": "1665ae32a448f777ae27939fe86bba9824a64b385b9ec4976201ba111bec836b"
   }
  }
 },
 "nbformat": 4,
 "nbformat_minor": 5
}
